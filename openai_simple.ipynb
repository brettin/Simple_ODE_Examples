{
 "cells": [
  {
   "cell_type": "code",
   "execution_count": 1,
   "id": "0107252a-7492-4650-af20-3b2fde21fb8b",
   "metadata": {},
   "outputs": [
    {
     "name": "stdin",
     "output_type": "stream",
     "text": [
      "OpenAI token:  ········\n"
     ]
    }
   ],
   "source": [
    "import openai\n",
    "import getpass\n",
    "import os\n",
    "\n",
    "# Set your API key here\n",
    "token = getpass.getpass(prompt='OpenAI token: ')\n",
    "os.environ['OPENAI_API_KEY'] = token"
   ]
  },
  {
   "cell_type": "code",
   "execution_count": 2,
   "id": "bb3649d7-3532-438b-af51-5b2bd3dd16d6",
   "metadata": {},
   "outputs": [],
   "source": [
    "from openai import OpenAI\n",
    "model = \"gpt-3.5-turbo\"\n",
    "# model=\"gpt-4-turbo\"\n",
    "client = OpenAI(\n",
    "    # This is the default and can be omitted\n",
    "    api_key=os.environ.get(\"OPENAI_API_KEY\"),\n",
    ")\n",
    "\n",
    "chat_completion = client.chat.completions.create(\n",
    "    messages=[\n",
    "        {\n",
    "            \"role\": \"user\",\n",
    "            \"content\": \"Can you describe what an ordinary differential equation is, and provide a couple of examples.\",\n",
    "        }\n",
    "    ],\n",
    "    model = model,\n",
    ")"
   ]
  },
  {
   "cell_type": "code",
   "execution_count": 3,
   "id": "15ab1657-c9a1-4098-b996-698081eee822",
   "metadata": {},
   "outputs": [
    {
     "name": "stdout",
     "output_type": "stream",
     "text": [
      "An ordinary differential equation (ODE) is an equation that involves a function and its derivatives. The equation relates the rate of change of the function at a particular point to the values of the function at that point. ODEs are commonly used in physics, engineering, biology, economics, and other fields to describe how certain quantities change over time.\n",
      "\n",
      "Here are a couple of examples of ordinary differential equations:\n",
      "\n",
      "1. The simple harmonic oscillator equation:\n",
      "\\[ \\frac{d^2x}{dt^2} + \\omega^2x = 0 \\]\n",
      "where \\(x(t)\\) is the displacement of a mass attached to a spring at time \\(t\\), and \\(\\omega\\) is the angular frequency of the oscillation.\n",
      "\n",
      "2. The exponential growth/decay equation:\n",
      "\\[ \\frac{dy}{dt} = ky \\]\n",
      "where \\(y(t)\\) is the quantity of a substance at time \\(t\\), and \\(k\\) is a constant representing the growth or decay rate.\n",
      "\n",
      "These are just a couple of examples, and ODEs can come in many different forms and complexities depending on the problem being modeled.\n"
     ]
    }
   ],
   "source": [
    "print(f'{chat_completion.choices[0].message.content}')"
   ]
  },
  {
   "cell_type": "code",
   "execution_count": null,
   "id": "904d062c-b504-4e62-b146-906ba18a6680",
   "metadata": {},
   "outputs": [],
   "source": []
  }
 ],
 "metadata": {
  "kernelspec": {
   "display_name": "Python 3 (ipykernel)",
   "language": "python",
   "name": "python3"
  },
  "language_info": {
   "codemirror_mode": {
    "name": "ipython",
    "version": 3
   },
   "file_extension": ".py",
   "mimetype": "text/x-python",
   "name": "python",
   "nbconvert_exporter": "python",
   "pygments_lexer": "ipython3",
   "version": "3.12.2"
  }
 },
 "nbformat": 4,
 "nbformat_minor": 5
}
